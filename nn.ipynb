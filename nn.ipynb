{
 "cells": [
  {
   "cell_type": "markdown",
   "metadata": {},
   "source": [
    "# Libraries"
   ]
  },
  {
   "cell_type": "code",
   "execution_count": 334,
   "metadata": {},
   "outputs": [
    {
     "name": "stdout",
     "output_type": "stream",
     "text": [
      "modulo cargado...\n"
     ]
    }
   ],
   "source": [
    "import importlib\n",
    "import pandas as pd\n",
    "import numpy as np\n",
    "import matplotlib.pyplot as plt\n",
    "import random\n",
    "import os\n",
    "from tensorflow import keras\n",
    "import scienceplots\n",
    "plt.style.use(['science', 'notebook'])\n",
    "import time\n",
    "\n",
    "import seaborn as sns\n",
    "\n",
    "import minimal as mn\n",
    "importlib.reload(mn) \n",
    "\n",
    "\n",
    "import keras\n",
    "from keras import models\n",
    "from keras import layers"
   ]
  },
  {
   "cell_type": "markdown",
   "metadata": {},
   "source": [
    "# Synthetic images"
   ]
  },
  {
   "cell_type": "code",
   "execution_count": 354,
   "metadata": {},
   "outputs": [],
   "source": [
    "class SyntheticImages:\n",
    "\n",
    "    def __init__(self, number_configs: int, training: list[str]=['all'], L=40):\n",
    "        if training == ['all']:\n",
    "            training = ['para', 'ferro', 'neel', 'stripe']\n",
    "        else:\n",
    "            training = [element.lower() for element in training]\n",
    "\n",
    "        self.number_configs = number_configs\n",
    "        self.training = training\n",
    "        self.L = L\n",
    "\n",
    "    def spin_gen(self, conf: str):\n",
    "        '''\n",
    "        Generates a spin configuration for the given configuration. \n",
    "        The resulting data is a tuple of the different configurations each one can have.\n",
    "        For example, ferromagnetic configurations can be spin up ferromagnetic or spin down ferromagnetic.\n",
    "        In this case, the tuple will contain two LxL matrices, one per each type.\n",
    "        '''\n",
    "        spin_conf = []\n",
    "        if conf == 'ferro':\n",
    "            spin_conf = [np.ones((self.L, self.L)).astype(int), \n",
    "                        -np.ones((self.L, self.L)).astype(int)]\n",
    "        elif conf == 'neel':\n",
    "            spin = np.fromfunction(lambda i, j: (-1)**(i + j + (conf == 4)), \n",
    "                                (self.L, self.L)).astype(int)\n",
    "            spin_conf = [spin, -spin]\n",
    "        elif conf == 'stripe':\n",
    "            spin = np.fromfunction(lambda i, j: (-1)**j, (self.L, self.L)).astype(int)\n",
    "            spin_conf = [spin, -spin, spin.T, -spin.T]\n",
    "        elif conf == 'para':\n",
    "            spin_conf = np.random.choice([-1, 1], size=(self.L, self.L)).astype(int)\n",
    "        return spin_conf\n",
    "\n",
    "    def dataGenerator(self):\n",
    "        ''' \n",
    "        Generates synthetic data given a number of configurations and the type of training we want to do.\n",
    "        If 'all', then it will generate all possible configurations evenly distributed. There are 4 types of configurations.\n",
    "        If the number of configurations is not divisible by 4, the remaining configurations will be generated in a paramagnetic manner.\n",
    "        '''\n",
    "        start_time = time.time()\n",
    "        print(\"Generating synthetic data...\")\n",
    "        config_dict = {\n",
    "            'para': 1,\n",
    "            'ferro': 2,\n",
    "            'neel': 2,\n",
    "            'stripe': 4\n",
    "        }\n",
    "\n",
    "        labels_dict = {\n",
    "            'para': 0,\n",
    "            'ferro': 1,\n",
    "            'neel': 2,\n",
    "            'stripe': 3\n",
    "        }\n",
    "\n",
    "        selected_dict = {k: v for k, v in config_dict.items() if k in self.training}\n",
    "\n",
    "        selected_labels = {k: v for k, v in labels_dict.items() if k in self.training}\n",
    "        \n",
    "        total_configs_per_selected = self.number_configs // len(selected_dict.values())\n",
    "        remaining_configs = self.number_configs % len(selected_dict.values())\n",
    "\n",
    "        train_images = []\n",
    "        train_labels = []\n",
    "\n",
    "        if 'para' in self.training:\n",
    "            for _ in range(total_configs_per_selected):\n",
    "                train_images.append(self.spin_gen('para'))\n",
    "                train_labels.append(labels_dict['para'])\n",
    "            del selected_dict['para'], selected_labels['para']\n",
    "        \n",
    "        for conf in selected_dict:\n",
    "            total_conf = total_configs_per_selected\n",
    "            extra_configs = total_conf % selected_dict[conf]    \n",
    "                \n",
    "            if extra_configs !=0:\n",
    "                remaining_configs += extra_configs\n",
    "            \n",
    "            total_conf = total_conf // selected_dict[conf]\n",
    "\n",
    "            for _ in range(total_conf):\n",
    "                train_images.extend(self.spin_gen(conf))\n",
    "                for _ in range(config_dict[conf]):\n",
    "                    train_labels.append(labels_dict[conf])\n",
    "\n",
    "        if 'para' in self.training:\n",
    "            for _ in range(remaining_configs):\n",
    "                train_images.append(self.spin_gen('para'))\n",
    "                train_labels.append(labels_dict['para'])\n",
    "        else:\n",
    "            for _ in range(remaining_configs):\n",
    "                train_images.append(self.spin_gen(self.training[0])[0])\n",
    "                train_labels.append(labels_dict[self.training[0]])\n",
    "\n",
    "        temp = list(zip(train_images, train_labels))\n",
    "        random.shuffle(temp)\n",
    "        train_images, train_labels = zip(*temp)\n",
    "\n",
    "        print(\"Done!\")\n",
    "\n",
    "        end_time = time.time()\n",
    "        elapsed_time = end_time - start_time\n",
    "        print(\"Elapsed time:\", elapsed_time, \"seconds\")\n",
    "        return np.array(train_images), np.array(train_labels)\n"
   ]
  },
  {
   "cell_type": "code",
   "execution_count": 369,
   "metadata": {},
   "outputs": [],
   "source": [
    "data = SyntheticImages(10000, training=['ferro','neel'], L=40)"
   ]
  },
  {
   "cell_type": "code",
   "execution_count": 370,
   "metadata": {},
   "outputs": [
    {
     "name": "stdout",
     "output_type": "stream",
     "text": [
      "Generating synthetic data...\n",
      "Done!\n",
      "Elapsed time: 0.318206787109375 seconds\n"
     ]
    }
   ],
   "source": [
    "train_images, train_labels = data.dataGenerator()"
   ]
  },
  {
   "cell_type": "code",
   "execution_count": 371,
   "metadata": {},
   "outputs": [
    {
     "data": {
      "text/plain": [
       "(10000, 40, 40)"
      ]
     },
     "execution_count": 371,
     "metadata": {},
     "output_type": "execute_result"
    }
   ],
   "source": [
    "train_images.shape"
   ]
  },
  {
   "cell_type": "markdown",
   "metadata": {},
   "source": [
    "# Simulated images"
   ]
  },
  {
   "cell_type": "markdown",
   "metadata": {},
   "source": [
    "# Neural networks"
   ]
  },
  {
   "cell_type": "code",
   "execution_count": null,
   "metadata": {},
   "outputs": [],
   "source": []
  }
 ],
 "metadata": {
  "kernelspec": {
   "display_name": "base",
   "language": "python",
   "name": "python3"
  },
  "language_info": {
   "codemirror_mode": {
    "name": "ipython",
    "version": 3
   },
   "file_extension": ".py",
   "mimetype": "text/x-python",
   "name": "python",
   "nbconvert_exporter": "python",
   "pygments_lexer": "ipython3",
   "version": "3.9.7"
  }
 },
 "nbformat": 4,
 "nbformat_minor": 2
}
