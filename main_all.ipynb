{
 "cells": [
  {
   "cell_type": "code",
   "execution_count": 3,
   "metadata": {},
   "outputs": [
    {
     "name": "stdout",
     "output_type": "stream",
     "text": [
      "Importing library...\n",
      "Library successfully imported\n",
      "Importing library...\n",
      "Library successfully imported\n"
     ]
    },
    {
     "data": {
      "text/plain": [
       "<module 'auxLib' from 'd:\\\\Facultad\\\\Doctorado\\\\Proyectos\\\\paper\\\\auxLib.py'>"
      ]
     },
     "execution_count": 3,
     "metadata": {},
     "output_type": "execute_result"
    }
   ],
   "source": [
    "import importlib\n",
    "import numpy as np\n",
    "import pandas as pd\n",
    "import matplotlib.pyplot as plt\n",
    "from matplotlib.backends.backend_pdf import PdfPages\n",
    "from matplotlib import rcParams\n",
    "plt.rcParams['xtick.labelsize']  = 18\n",
    "plt.rcParams['ytick.labelsize']  = 18\n",
    "plt.rcParams['mathtext.fontset'] = 'stix'\n",
    "plt.rcParams['font.family']      = 'STIXGeneral'\n",
    "plt.rcParams['axes.labelsize']   = 20\n",
    "plt.rcParams['axes.titlesize']   = 20\n",
    "plt.rcParams['font.size']        = 10\n",
    "plt.rcParams['legend.fontsize']  = 20\n",
    "plt.rcParams.update({'figure.autolayout': True})\n",
    "#import scienceplots\n",
    "#plt.style.use(['science','ieee'])\n",
    "\n",
    "from tqdm import tqdm\n",
    "import random\n",
    "import os\n",
    "import time\n",
    "import h5py\n",
    "from datetime import datetime\n",
    "\n",
    "\n",
    "import keras\n",
    "import tensorflow as tf\n",
    "from keras.models import Sequential\n",
    "from keras.layers import Conv2D, MaxPooling2D, Flatten, Dense, Dropout, Conv2DTranspose\n",
    "\n",
    "# Import auxiliary libraries\n",
    "\n",
    "import auxLib; importlib.reload(auxLib)"
   ]
  },
  {
   "cell_type": "markdown",
   "metadata": {},
   "source": [
    "# Main variables"
   ]
  },
  {
   "cell_type": "code",
   "execution_count": 4,
   "metadata": {},
   "outputs": [],
   "source": [
    "L = 40\n",
    "\n",
    "densities = [0.55, 0.6, 0.61, 0.62, 0.63, 0.64, 0.65, 0.7, 0.8, 0.9, 1.0]\n",
    "\n",
    "densities_str = ['055','06', '061', '062', '063', '064', '065', '07', '08', '09','1']\n",
    "\n",
    "neurons = [2**i for i in range(10)]\n",
    "\n",
    "seed = 15\n",
    "\n",
    "callbacks = auxLib.myCallback() # to be able to stop training if accuracy is high enough"
   ]
  },
  {
   "cell_type": "code",
   "execution_count": null,
   "metadata": {},
   "outputs": [],
   "source": [
    "modelsfolder, resultsfolder = auxLib.folders(os.path.join(os.getcwd(), datetime.now().strftime('%Y-%m-%d')))"
   ]
  }
 ],
 "metadata": {
  "kernelspec": {
   "display_name": "base",
   "language": "python",
   "name": "python3"
  },
  "language_info": {
   "codemirror_mode": {
    "name": "ipython",
    "version": 3
   },
   "file_extension": ".py",
   "mimetype": "text/x-python",
   "name": "python",
   "nbconvert_exporter": "python",
   "pygments_lexer": "ipython3",
   "version": "3.9.7"
  }
 },
 "nbformat": 4,
 "nbformat_minor": 2
}
