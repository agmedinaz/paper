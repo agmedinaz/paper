{
 "cells": [
  {
   "cell_type": "code",
   "execution_count": null,
   "metadata": {},
   "outputs": [],
   "source": [
    "import importlib\n",
    "import numpy as np\n",
    "import pandas as pd\n",
    "import matplotlib.pyplot as plt\n",
    "from matplotlib.backends.backend_pdf import PdfPages\n",
    "from matplotlib import rcParams\n",
    "plt.rcParams['xtick.labelsize']  = 18\n",
    "plt.rcParams['ytick.labelsize']  = 18\n",
    "plt.rcParams['mathtext.fontset'] = 'stix'\n",
    "plt.rcParams['font.family']      = 'STIXGeneral'\n",
    "plt.rcParams['axes.labelsize']   = 20\n",
    "plt.rcParams['axes.titlesize']   = 20\n",
    "plt.rcParams['font.size']        = 10\n",
    "plt.rcParams['legend.fontsize']  = 20\n",
    "plt.rcParams.update({'figure.autolayout': True})\n",
    "#import scienceplots\n",
    "#plt.style.use(['science','ieee'])\n",
    "\n",
    "from tqdm import tqdm\n",
    "import random\n",
    "import os\n",
    "import time\n",
    "import h5py\n",
    "from datetime import datetime\n",
    "\n",
    "\n",
    "import keras\n",
    "import tensorflow as tf\n",
    "from keras.models import Sequential\n",
    "from keras.layers import Conv2D, MaxPooling2D, Flatten, Dense, Dropout, Conv2DTranspose\n",
    "\n",
    "# Import auxiliary libraries\n",
    "\n",
    "import auxLib; importlib.reload(auxLib)"
   ]
  },
  {
   "cell_type": "markdown",
   "metadata": {},
   "source": [
    "# Main variables"
   ]
  },
  {
   "cell_type": "code",
   "execution_count": null,
   "metadata": {},
   "outputs": [],
   "source": [
    "L = 40\n",
    "\n",
    "densities = [0.55, 0.6, 0.61, 0.62, 0.63, 0.64, 0.65, 0.7, 0.8, 0.9, 1.0]\n",
    "\n",
    "densities_str = ['055','06', '061', '062', '063', '064', '065', '07', '08', '09','1']\n",
    "\n",
    "neurons = 200\n",
    "\n",
    "seed = 15\n",
    "\n",
    "callbacks = auxLib.myCallback() # to be able to stop training if accuracy is high enough"
   ]
  },
  {
   "cell_type": "code",
   "execution_count": null,
   "metadata": {},
   "outputs": [],
   "source": [
    "training = ['para', 'ferro', 'neel','stripe']\n",
    "\n",
    "modelsfolder, resultsfolder = auxLib.folders(directory=None, training=training, percolation=True)\n"
   ]
  },
  {
   "cell_type": "code",
   "execution_count": null,
   "metadata": {},
   "outputs": [],
   "source": [
    "data = auxLib.SyntheticImagesGen(training=training, L=L)\n",
    "\n",
    "# Generate synthetic data\n",
    "\n",
    "train_images, train_labels = data.dataGenerator(10000)\n",
    "test_images, test_labels = data.dataGenerator(1000)\n",
    "\n",
    "train_images = train_images.reshape((10000, L * L))\n",
    "test_images = test_images.reshape((1000, L * L))"
   ]
  },
  {
   "cell_type": "markdown",
   "metadata": {},
   "source": [
    "# Creating and training models\n",
    "\n",
    "Now we should use the results of the critical temperatures of each training to decide what number of neurons will we use for percolation problem. We will use 200 neurons."
   ]
  },
  {
   "cell_type": "code",
   "execution_count": null,
   "metadata": {},
   "outputs": [],
   "source": [
    "np.random.seed(seed)\n",
    "\n",
    "kernel_regularizer=tf.keras.regularizers.l2(0.01)\n",
    "\n",
    "dnn = auxLib.DenseNeuralNetworkGen() # Initializing. It generates the model\n",
    "\n",
    "dnn.build_model((L*L,), num_classes=4, layers=[\n",
    "{'type': 'dense', 'units': neurons, 'activation': 'relu', 'kernel_regularizer': kernel_regularizer},\n",
    "{'type': 'dropout', 'rate': 0.2},\n",
    "{'type': 'dense', 'units': 4, 'activation': 'softmax'} #2 is the number of classes: Paramagnetic and ferromagnetic\n",
    "])\n",
    "\n",
    "dnn.compile(optimizer='adam', loss='sparse_categorical_crossentropy', metrics=['accuracy'])\n",
    "dnn.summary()\n",
    "\n",
    "dnn.fit(train_images, train_labels, \n",
    "\t\tepochs=50, batch_size=20,\n",
    "\t\tvalidation_data=(test_images, test_labels), \n",
    "\t\tcallbacks=[callbacks],\n",
    "\t\tverbose=False)\n",
    "\n",
    "dnn.save_weights(f'dnn_n{neurons}_DO02', directory=modelsfolder) # name of the model (exclude the 'weights' and the extension)\n",
    "dnn.save_model(f'dnn_n{neurons}_DO02', directory=modelsfolder)"
   ]
  },
  {
   "cell_type": "markdown",
   "metadata": {},
   "source": [
    "# Predictions"
   ]
  },
  {
   "cell_type": "code",
   "execution_count": null,
   "metadata": {},
   "outputs": [],
   "source": [
    "# Simulated images\n",
    "\n",
    "loader_init = auxLib.loader_and_saver(os.getcwd())\n"
   ]
  },
  {
   "cell_type": "code",
   "execution_count": null,
   "metadata": {},
   "outputs": [],
   "source": [
    "\n",
    "for densitiy_index, density in enumerate(densities):\n",
    "    \n",
    "    sim_images, temperature = loader_init.simulatedImages(densitiy_index)\n",
    "\n",
    "    model_path = os.path.join(modelsfolder, f'dnn_n{neurons}_DO02.h5')\n",
    "\n",
    "    dnn = keras.models.load_model(model_path)\n",
    "\n",
    "    prediction = auxLib.predictor(L, dnn, sim_images, neurons,\n",
    "\t\t\t\t\t\t\t\ttraining=training,\n",
    "                                directory=resultsfolder, \n",
    "                                reshape = True, \n",
    "                                verbose=False, \n",
    "                                save_prediction=True)\n"
   ]
  },
  {
   "cell_type": "markdown",
   "metadata": {},
   "source": [
    "# Calculating critical temperature"
   ]
  },
  {
   "cell_type": "code",
   "execution_count": null,
   "metadata": {},
   "outputs": [],
   "source": [
    "critical_temperatures = []\n",
    "\n",
    "for neuron in neurons:\n",
    "    prediction = pd.read_csv(resultsfolder+f'/predictions_{neuron}.csv', header=0).to_numpy(float)\n",
    "    temperature, para, neel, stripe = prediction.T\n",
    "\n",
    "    print(f'Prediction for {neuron} neurons in hidden layer')\n",
    "\n",
    "    plt.figure(figsize=(7, 7))\n",
    "    plt.plot(temperature, para, '^-', label='Paramagnetic', markerfacecolor='none', markersize=7)\n",
    "    plt.plot(temperature, ferro, 'o-', label='Ferromagnetic', markerfacecolor='none', markersize=7)\n",
    "    \n",
    "    if neuron<8:\n",
    "        plt.xlim((0.5, 3))\n",
    "    else:\n",
    "        plt.xlim((1.5, 3))\n",
    "    plt.xlabel('Temperature')\n",
    "    plt.ylabel('Probability')\n",
    "    plt.legend()\n",
    "\n",
    "    if max(ferro)<0.5:\n",
    "        tc = 0\n",
    "    else:\n",
    "        index_half = np.where(ferro > 0.5)[0][-1]\n",
    "        if index_half == 250:\n",
    "            index_half = 249\n",
    "        # Interpolation:\n",
    "        tc = temperature[index_half] + (ferro[index_half]-0.5)*(temperature[index_half+1] - temperature[index_half]) / (ferro[index_half] - ferro[index_half+1])\n",
    "        plt.axvline(x=tc,  color = 'red', linestyle = '--', alpha = 0.5)\n",
    "\n",
    "    critical_temperatures.append(tc)\n",
    "    print(f'T_c = {tc}')\n",
    "    plt.savefig(os.path.join(resultsfolder, f'{neuron}neurons.pdf'))\n",
    "    plt.show()"
   ]
  },
  {
   "cell_type": "code",
   "execution_count": null,
   "metadata": {},
   "outputs": [],
   "source": [
    "temp = pd.DataFrame((np.concatenate((np.array(neurons).reshape(len(neurons),1), \n",
    "                                    np.array(critical_temperatures).reshape(len(neurons),1)),axis=1)), \n",
    "                                    columns=['Neurons','Temperature'])\n",
    "temp.to_csv(os.path.join(resultsfolder, 'critical_temperatures.csv'), index=False)"
   ]
  },
  {
   "cell_type": "code",
   "execution_count": null,
   "metadata": {},
   "outputs": [],
   "source": [
    "temp = pd.read_csv(os.path.join(resultsfolder, f'critical_temperatures.csv'))\n",
    "\n",
    "plt.figure(figsize=(7, 7))\n",
    "plt.scatter(temp['Neurons'][1:],temp['Temperature'][1:], marker='x', color='black', label='Critical temperature')\n",
    "plt.axhline(y=2.269, color = 'red', linestyle = '--', label = 'Theoretical critical temperature')\n",
    "plt.xlabel('Neurons')\n",
    "plt.ylabel('Temperature')\n",
    "\n",
    "#plt.text(800, 2.25, rf'Tc ={2.269}', color='black', \n",
    "#        verticalalignment='top', horizontalalignment='left', fontsize=20)\n",
    "\n",
    "plt.ylim((2, 3))\n",
    "plt.legend(loc='upper right')\n",
    "plt.savefig(os.path.join(os.getcwd(), resultsfolder, 'critical_temperatures.pdf'))\n",
    "plt.show()"
   ]
  },
  {
   "cell_type": "markdown",
   "metadata": {},
   "source": [
    "# Calculating critical temperature using Half-height method"
   ]
  },
  {
   "cell_type": "code",
   "execution_count": null,
   "metadata": {},
   "outputs": [],
   "source": [
    "training = ['para','ferro']\n",
    "\n",
    "modelsfolder, resultsfolder = auxLib.folders(directory=None, training=training)\n",
    "saving_folder = os.path.join(os.getcwd(), 'DNN', 'Para_Neel_Stripe', 'predictions', datetime.now().strftime('%Y-%m-%d'))\n",
    "os.makedirs(saving_folder, exist_ok = True)\n",
    "\n",
    "critical_temperatures = []\n",
    "\n",
    "for neuron in neurons:\n",
    "\tprint(f'Prediction for {neuron} neurons in hidden layer')\n",
    "\ttc, plot = auxLib.half_height(resultsfolder, name=f'predictions_{neuron}', prediction=None, graph=True)\n",
    "\tplot.savefig(saving_folder+f'/critical_temperature_{neuron}.pdf') #saving the figure\n",
    "\tplot.show()\n",
    "\tcritical_temperatures.append(tc)\n",
    "\n",
    "temp = pd.DataFrame((np.concatenate((np.array(neurons).reshape(len(neurons),1), \n",
    "                                    np.array(critical_temperatures).reshape(len(neurons),1)),axis=1)), \n",
    "                                    columns=['Neurons','Temperature'])\n",
    "temp.to_csv(os.path.join(saving_folder, 'critical_temperatures(half).csv'), index=False)"
   ]
  },
  {
   "cell_type": "code",
   "execution_count": null,
   "metadata": {},
   "outputs": [],
   "source": [
    "data_df = pd.read_csv(os.path.join(saving_folder,f'critical_temperatures(half).csv'), header=0)\n",
    "\n",
    "plt.figure(figsize=(7, 7))\n",
    "\n",
    "plt.scatter(data_df['Neurons'], data_df['Temperature'], marker='x', color='black', label='Critical temperature') # excluding the first neuron\n",
    "plt.axhline(y=2.269, color = 'red', linestyle = '--', label = 'Theoretical critical temperature')\n",
    "\n",
    "plt.xlabel('Number of neurons in hidden layer')\n",
    "plt.ylabel('Critical temperature')\n",
    "\n",
    "plt.text(250, 2.269, rf'Tc ={2.269}', color='black', \n",
    "        verticalalignment='bottom', horizontalalignment='right', fontsize=20)\n",
    "\n",
    "plt.ylim((2, 3))\n",
    "plt.legend()\n",
    "plt.savefig(os.path.join(saving_folder, 'critical_temperature(half).pdf'))\n",
    "plt.show()"
   ]
  }
 ],
 "metadata": {
  "kernelspec": {
   "display_name": "base",
   "language": "python",
   "name": "python3"
  },
  "language_info": {
   "name": "python",
   "version": "3.9.7"
  }
 },
 "nbformat": 4,
 "nbformat_minor": 2
}
