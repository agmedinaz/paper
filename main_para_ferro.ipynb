{
 "cells": [
  {
   "cell_type": "code",
   "execution_count": 1,
   "metadata": {},
   "outputs": [
    {
     "name": "stdout",
     "output_type": "stream",
     "text": [
      "Importing library...\n",
      "Library successfully imported\n",
      "Importing library...\n",
      "Library successfully imported\n"
     ]
    },
    {
     "data": {
      "text/plain": [
       "<module 'auxLib' from 'd:\\\\Facultad\\\\Doctorado\\\\Proyectos\\\\paper\\\\auxLib.py'>"
      ]
     },
     "execution_count": 1,
     "metadata": {},
     "output_type": "execute_result"
    }
   ],
   "source": [
    "import importlib\n",
    "import numpy as np\n",
    "import pandas as pd\n",
    "import matplotlib.pyplot as plt\n",
    "from matplotlib.backends.backend_pdf import PdfPages\n",
    "from matplotlib import rcParams\n",
    "plt.rcParams['xtick.labelsize']  = 18\n",
    "plt.rcParams['ytick.labelsize']  = 18\n",
    "plt.rcParams['mathtext.fontset'] = 'stix'\n",
    "plt.rcParams['font.family']      = 'STIXGeneral'\n",
    "plt.rcParams['axes.labelsize']   = 20\n",
    "plt.rcParams['axes.titlesize']   = 20\n",
    "plt.rcParams['font.size']        = 10\n",
    "plt.rcParams['legend.fontsize']  = 20\n",
    "plt.rcParams.update({'figure.autolayout': True})\n",
    "#import scienceplots\n",
    "#plt.style.use(['science','ieee'])\n",
    "\n",
    "from tqdm import tqdm\n",
    "import random\n",
    "import os\n",
    "import time\n",
    "import h5py\n",
    "from datetime import datetime\n",
    "\n",
    "\n",
    "import keras\n",
    "import tensorflow as tf\n",
    "from keras.models import Sequential\n",
    "from keras.layers import Conv2D, MaxPooling2D, Flatten, Dense, Dropout, Conv2DTranspose\n",
    "\n",
    "# Import auxiliary libraries\n",
    "\n",
    "import auxLib; importlib.reload(auxLib)"
   ]
  },
  {
   "cell_type": "markdown",
   "metadata": {},
   "source": [
    "# Main variables"
   ]
  },
  {
   "cell_type": "code",
   "execution_count": 2,
   "metadata": {},
   "outputs": [],
   "source": [
    "L = 40\n",
    "\n",
    "densities = [0.55, 0.6, 0.61, 0.62, 0.63, 0.64, 0.65, 0.7, 0.8, 0.9, 1.0]\n",
    "\n",
    "densities_str = ['055','06', '061', '062', '063', '064', '065', '07', '08', '09','1']\n",
    "\n",
    "first_neurons = [i for i in range(1,11)]\n",
    "middle_neurons = [20 * i for i in range(1,6)]\n",
    "last_neurons = [50 * i for i in range(3,21)]\n",
    "\n",
    "neurons = first_neurons + middle_neurons + last_neurons\n",
    "\n",
    "seed = 15\n",
    "\n",
    "callbacks = auxLib.myCallback() # to be able to stop training if accuracy is high enough"
   ]
  },
  {
   "cell_type": "code",
   "execution_count": 3,
   "metadata": {},
   "outputs": [],
   "source": [
    "training = ['para','ferro']\n",
    "\n",
    "modelsfolder, resultsfolder = auxLib.folders(directory=None, training=training)"
   ]
  },
  {
   "cell_type": "code",
   "execution_count": 4,
   "metadata": {},
   "outputs": [
    {
     "name": "stdout",
     "output_type": "stream",
     "text": [
      "Generating synthetic data...\n"
     ]
    },
    {
     "name": "stdout",
     "output_type": "stream",
     "text": [
      "Done!\n",
      "Elapsed time: 0.4755899906158447 seconds\n",
      "Generating synthetic data...\n",
      "Done!\n",
      "Elapsed time: 0.04441046714782715 seconds\n"
     ]
    }
   ],
   "source": [
    "data = auxLib.SyntheticImagesGen(training=training, L=L)\n",
    "\n",
    "# Generate synthetic data\n",
    "\n",
    "train_images, train_labels = data.dataGenerator(10000)\n",
    "test_images, test_labels = data.dataGenerator(1000)\n",
    "\n",
    "train_images = train_images.reshape((10000, L * L))\n",
    "test_images = test_images.reshape((1000, L * L))"
   ]
  },
  {
   "cell_type": "markdown",
   "metadata": {},
   "source": [
    "# Training"
   ]
  },
  {
   "cell_type": "code",
   "execution_count": 5,
   "metadata": {},
   "outputs": [
    {
     "name": "stderr",
     "output_type": "stream",
     "text": [
      "Generating DNN models:   0%|          | 0/33 [00:00<?, ?neuron/s]"
     ]
    },
    {
     "name": "stdout",
     "output_type": "stream",
     "text": [
      "Model: \"sequential\"\n",
      "_________________________________________________________________\n",
      " Layer (type)                Output Shape              Param #   \n",
      "=================================================================\n",
      " dense (Dense)               (None, 1)                 1601      \n",
      "                                                                 \n",
      " dropout (Dropout)           (None, 1)                 0         \n",
      "                                                                 \n",
      " dense_1 (Dense)             (None, 2)                 4         \n",
      "                                                                 \n",
      "=================================================================\n",
      "Total params: 1605 (6.27 KB)\n",
      "Trainable params: 1605 (6.27 KB)\n",
      "Non-trainable params: 0 (0.00 Byte)\n",
      "_________________________________________________________________\n"
     ]
    },
    {
     "name": "stderr",
     "output_type": "stream",
     "text": [
      "C:\\Users\\Usuario\\AppData\\Roaming\\Python\\Python39\\site-packages\\keras\\src\\engine\\training.py:3079: UserWarning: You are saving your model as an HDF5 file via `model.save()`. This file format is considered legacy. We recommend using instead the native Keras format, e.g. `model.save('my_model.keras')`.\n",
      "  saving_api.save_model(\n",
      "Generating DNN models:   3%|▎         | 1/33 [00:47<25:11, 47.24s/neuron]"
     ]
    },
    {
     "name": "stdout",
     "output_type": "stream",
     "text": [
      "Model saved as d:\\Facultad\\Doctorado\\Proyectos\\paper\\DNN\\Para_Ferro\\models\\2024-08-18\\dnn_para_ferro_n1_DO02.h5\n",
      "Model: \"sequential_1\"\n",
      "_________________________________________________________________\n",
      " Layer (type)                Output Shape              Param #   \n",
      "=================================================================\n",
      " dense_2 (Dense)             (None, 2)                 3202      \n",
      "                                                                 \n",
      " dropout_1 (Dropout)         (None, 2)                 0         \n",
      "                                                                 \n",
      " dense_3 (Dense)             (None, 2)                 6         \n",
      "                                                                 \n",
      "=================================================================\n",
      "Total params: 3208 (12.53 KB)\n",
      "Trainable params: 3208 (12.53 KB)\n",
      "Non-trainable params: 0 (0.00 Byte)\n",
      "_________________________________________________________________\n"
     ]
    },
    {
     "name": "stderr",
     "output_type": "stream",
     "text": [
      "Generating DNN models:   6%|▌         | 2/33 [01:34<24:31, 47.47s/neuron]"
     ]
    },
    {
     "name": "stdout",
     "output_type": "stream",
     "text": [
      "Model saved as d:\\Facultad\\Doctorado\\Proyectos\\paper\\DNN\\Para_Ferro\\models\\2024-08-18\\dnn_para_ferro_n2_DO02.h5\n",
      "Model: \"sequential_2\"\n",
      "_________________________________________________________________\n",
      " Layer (type)                Output Shape              Param #   \n",
      "=================================================================\n",
      " dense_4 (Dense)             (None, 3)                 4803      \n",
      "                                                                 \n",
      " dropout_2 (Dropout)         (None, 3)                 0         \n",
      "                                                                 \n",
      " dense_5 (Dense)             (None, 2)                 8         \n",
      "                                                                 \n",
      "=================================================================\n",
      "Total params: 4811 (18.79 KB)\n",
      "Trainable params: 4811 (18.79 KB)\n",
      "Non-trainable params: 0 (0.00 Byte)\n",
      "_________________________________________________________________\n"
     ]
    },
    {
     "name": "stderr",
     "output_type": "stream",
     "text": [
      "Generating DNN models:   9%|▉         | 3/33 [02:27<24:54, 49.82s/neuron]"
     ]
    },
    {
     "name": "stdout",
     "output_type": "stream",
     "text": [
      "Model saved as d:\\Facultad\\Doctorado\\Proyectos\\paper\\DNN\\Para_Ferro\\models\\2024-08-18\\dnn_para_ferro_n3_DO02.h5\n",
      "Model: \"sequential_3\"\n",
      "_________________________________________________________________\n",
      " Layer (type)                Output Shape              Param #   \n",
      "=================================================================\n",
      " dense_6 (Dense)             (None, 4)                 6404      \n",
      "                                                                 \n",
      " dropout_3 (Dropout)         (None, 4)                 0         \n",
      "                                                                 \n",
      " dense_7 (Dense)             (None, 2)                 10        \n",
      "                                                                 \n",
      "=================================================================\n",
      "Total params: 6414 (25.05 KB)\n",
      "Trainable params: 6414 (25.05 KB)\n",
      "Non-trainable params: 0 (0.00 Byte)\n",
      "_________________________________________________________________\n"
     ]
    },
    {
     "name": "stderr",
     "output_type": "stream",
     "text": [
      "Generating DNN models:  12%|█▏        | 4/33 [03:15<23:41, 49.03s/neuron]"
     ]
    },
    {
     "name": "stdout",
     "output_type": "stream",
     "text": [
      "Model saved as d:\\Facultad\\Doctorado\\Proyectos\\paper\\DNN\\Para_Ferro\\models\\2024-08-18\\dnn_para_ferro_n4_DO02.h5\n",
      "Model: \"sequential_4\"\n",
      "_________________________________________________________________\n",
      " Layer (type)                Output Shape              Param #   \n",
      "=================================================================\n",
      " dense_8 (Dense)             (None, 5)                 8005      \n",
      "                                                                 \n",
      " dropout_4 (Dropout)         (None, 5)                 0         \n",
      "                                                                 \n",
      " dense_9 (Dense)             (None, 2)                 12        \n",
      "                                                                 \n",
      "=================================================================\n",
      "Total params: 8017 (31.32 KB)\n",
      "Trainable params: 8017 (31.32 KB)\n",
      "Non-trainable params: 0 (0.00 Byte)\n",
      "_________________________________________________________________\n"
     ]
    },
    {
     "name": "stderr",
     "output_type": "stream",
     "text": [
      "Generating DNN models:  15%|█▌        | 5/33 [03:18<15:06, 32.38s/neuron]"
     ]
    },
    {
     "name": "stdout",
     "output_type": "stream",
     "text": [
      "\n",
      "Accuracy is high enough, so cancelling training!\n",
      "Model saved as d:\\Facultad\\Doctorado\\Proyectos\\paper\\DNN\\Para_Ferro\\models\\2024-08-18\\dnn_para_ferro_n5_DO02.h5\n",
      "Model: \"sequential_5\"\n",
      "_________________________________________________________________\n",
      " Layer (type)                Output Shape              Param #   \n",
      "=================================================================\n",
      " dense_10 (Dense)            (None, 6)                 9606      \n",
      "                                                                 \n",
      " dropout_5 (Dropout)         (None, 6)                 0         \n",
      "                                                                 \n",
      " dense_11 (Dense)            (None, 2)                 14        \n",
      "                                                                 \n",
      "=================================================================\n",
      "Total params: 9620 (37.58 KB)\n",
      "Trainable params: 9620 (37.58 KB)\n",
      "Non-trainable params: 0 (0.00 Byte)\n",
      "_________________________________________________________________\n"
     ]
    },
    {
     "name": "stderr",
     "output_type": "stream",
     "text": [
      "Generating DNN models:  18%|█▊        | 6/33 [03:21<10:06, 22.45s/neuron]"
     ]
    },
    {
     "name": "stdout",
     "output_type": "stream",
     "text": [
      "\n",
      "Accuracy is high enough, so cancelling training!\n",
      "Model saved as d:\\Facultad\\Doctorado\\Proyectos\\paper\\DNN\\Para_Ferro\\models\\2024-08-18\\dnn_para_ferro_n6_DO02.h5\n",
      "Model: \"sequential_6\"\n",
      "_________________________________________________________________\n",
      " Layer (type)                Output Shape              Param #   \n",
      "=================================================================\n",
      " dense_12 (Dense)            (None, 7)                 11207     \n",
      "                                                                 \n",
      " dropout_6 (Dropout)         (None, 7)                 0         \n",
      "                                                                 \n",
      " dense_13 (Dense)            (None, 2)                 16        \n",
      "                                                                 \n",
      "=================================================================\n",
      "Total params: 11223 (43.84 KB)\n",
      "Trainable params: 11223 (43.84 KB)\n",
      "Non-trainable params: 0 (0.00 Byte)\n",
      "_________________________________________________________________\n"
     ]
    },
    {
     "name": "stderr",
     "output_type": "stream",
     "text": [
      "Generating DNN models:  21%|██        | 7/33 [03:23<06:50, 15.81s/neuron]"
     ]
    },
    {
     "name": "stdout",
     "output_type": "stream",
     "text": [
      "\n",
      "Accuracy is high enough, so cancelling training!\n",
      "Model saved as d:\\Facultad\\Doctorado\\Proyectos\\paper\\DNN\\Para_Ferro\\models\\2024-08-18\\dnn_para_ferro_n7_DO02.h5\n",
      "Model: \"sequential_7\"\n",
      "_________________________________________________________________\n",
      " Layer (type)                Output Shape              Param #   \n",
      "=================================================================\n",
      " dense_14 (Dense)            (None, 8)                 12808     \n",
      "                                                                 \n",
      " dropout_7 (Dropout)         (None, 8)                 0         \n",
      "                                                                 \n",
      " dense_15 (Dense)            (None, 2)                 18        \n",
      "                                                                 \n",
      "=================================================================\n",
      "Total params: 12826 (50.10 KB)\n",
      "Trainable params: 12826 (50.10 KB)\n",
      "Non-trainable params: 0 (0.00 Byte)\n",
      "_________________________________________________________________\n"
     ]
    },
    {
     "name": "stderr",
     "output_type": "stream",
     "text": [
      "Generating DNN models:  24%|██▍       | 8/33 [03:25<04:47, 11.49s/neuron]"
     ]
    },
    {
     "name": "stdout",
     "output_type": "stream",
     "text": [
      "\n",
      "Accuracy is high enough, so cancelling training!\n",
      "Model saved as d:\\Facultad\\Doctorado\\Proyectos\\paper\\DNN\\Para_Ferro\\models\\2024-08-18\\dnn_para_ferro_n8_DO02.h5\n",
      "Model: \"sequential_8\"\n",
      "_________________________________________________________________\n",
      " Layer (type)                Output Shape              Param #   \n",
      "=================================================================\n",
      " dense_16 (Dense)            (None, 9)                 14409     \n",
      "                                                                 \n",
      " dropout_8 (Dropout)         (None, 9)                 0         \n",
      "                                                                 \n",
      " dense_17 (Dense)            (None, 2)                 20        \n",
      "                                                                 \n",
      "=================================================================\n",
      "Total params: 14429 (56.36 KB)\n",
      "Trainable params: 14429 (56.36 KB)\n",
      "Non-trainable params: 0 (0.00 Byte)\n",
      "_________________________________________________________________\n"
     ]
    },
    {
     "name": "stderr",
     "output_type": "stream",
     "text": [
      "Generating DNN models:  27%|██▋       | 9/33 [03:27<03:25,  8.57s/neuron]"
     ]
    },
    {
     "name": "stdout",
     "output_type": "stream",
     "text": [
      "\n",
      "Accuracy is high enough, so cancelling training!\n",
      "Model saved as d:\\Facultad\\Doctorado\\Proyectos\\paper\\DNN\\Para_Ferro\\models\\2024-08-18\\dnn_para_ferro_n9_DO02.h5\n",
      "Model: \"sequential_9\"\n",
      "_________________________________________________________________\n",
      " Layer (type)                Output Shape              Param #   \n",
      "=================================================================\n",
      " dense_18 (Dense)            (None, 10)                16010     \n",
      "                                                                 \n",
      " dropout_9 (Dropout)         (None, 10)                0         \n",
      "                                                                 \n",
      " dense_19 (Dense)            (None, 2)                 22        \n",
      "                                                                 \n",
      "=================================================================\n",
      "Total params: 16032 (62.62 KB)\n",
      "Trainable params: 16032 (62.62 KB)\n",
      "Non-trainable params: 0 (0.00 Byte)\n",
      "_________________________________________________________________\n"
     ]
    },
    {
     "name": "stderr",
     "output_type": "stream",
     "text": [
      "Generating DNN models:  30%|███       | 10/33 [03:33<02:54,  7.58s/neuron]"
     ]
    },
    {
     "name": "stdout",
     "output_type": "stream",
     "text": [
      "\n",
      "Accuracy is high enough, so cancelling training!\n",
      "Model saved as d:\\Facultad\\Doctorado\\Proyectos\\paper\\DNN\\Para_Ferro\\models\\2024-08-18\\dnn_para_ferro_n10_DO02.h5\n",
      "Model: \"sequential_10\"\n",
      "_________________________________________________________________\n",
      " Layer (type)                Output Shape              Param #   \n",
      "=================================================================\n",
      " dense_20 (Dense)            (None, 20)                32020     \n",
      "                                                                 \n",
      " dropout_10 (Dropout)        (None, 20)                0         \n",
      "                                                                 \n",
      " dense_21 (Dense)            (None, 2)                 42        \n",
      "                                                                 \n",
      "=================================================================\n",
      "Total params: 32062 (125.24 KB)\n",
      "Trainable params: 32062 (125.24 KB)\n",
      "Non-trainable params: 0 (0.00 Byte)\n",
      "_________________________________________________________________\n"
     ]
    },
    {
     "name": "stderr",
     "output_type": "stream",
     "text": [
      "Generating DNN models:  33%|███▎      | 11/33 [03:35<02:10,  5.91s/neuron]"
     ]
    },
    {
     "name": "stdout",
     "output_type": "stream",
     "text": [
      "\n",
      "Accuracy is high enough, so cancelling training!\n",
      "Model saved as d:\\Facultad\\Doctorado\\Proyectos\\paper\\DNN\\Para_Ferro\\models\\2024-08-18\\dnn_para_ferro_n20_DO02.h5\n",
      "Model: \"sequential_11\"\n",
      "_________________________________________________________________\n",
      " Layer (type)                Output Shape              Param #   \n",
      "=================================================================\n",
      " dense_22 (Dense)            (None, 40)                64040     \n",
      "                                                                 \n",
      " dropout_11 (Dropout)        (None, 40)                0         \n",
      "                                                                 \n",
      " dense_23 (Dense)            (None, 2)                 82        \n",
      "                                                                 \n",
      "=================================================================\n",
      "Total params: 64122 (250.48 KB)\n",
      "Trainable params: 64122 (250.48 KB)\n",
      "Non-trainable params: 0 (0.00 Byte)\n",
      "_________________________________________________________________\n"
     ]
    },
    {
     "name": "stderr",
     "output_type": "stream",
     "text": [
      "Generating DNN models:  36%|███▋      | 12/33 [03:40<01:57,  5.58s/neuron]"
     ]
    },
    {
     "name": "stdout",
     "output_type": "stream",
     "text": [
      "\n",
      "Accuracy is high enough, so cancelling training!\n",
      "Model saved as d:\\Facultad\\Doctorado\\Proyectos\\paper\\DNN\\Para_Ferro\\models\\2024-08-18\\dnn_para_ferro_n40_DO02.h5\n",
      "Model: \"sequential_12\"\n",
      "_________________________________________________________________\n",
      " Layer (type)                Output Shape              Param #   \n",
      "=================================================================\n",
      " dense_24 (Dense)            (None, 60)                96060     \n",
      "                                                                 \n",
      " dropout_12 (Dropout)        (None, 60)                0         \n",
      "                                                                 \n",
      " dense_25 (Dense)            (None, 2)                 122       \n",
      "                                                                 \n",
      "=================================================================\n",
      "Total params: 96182 (375.71 KB)\n",
      "Trainable params: 96182 (375.71 KB)\n",
      "Non-trainable params: 0 (0.00 Byte)\n",
      "_________________________________________________________________\n"
     ]
    },
    {
     "name": "stderr",
     "output_type": "stream",
     "text": [
      "Generating DNN models:  39%|███▉      | 13/33 [03:42<01:34,  4.71s/neuron]"
     ]
    },
    {
     "name": "stdout",
     "output_type": "stream",
     "text": [
      "\n",
      "Accuracy is high enough, so cancelling training!\n",
      "Model saved as d:\\Facultad\\Doctorado\\Proyectos\\paper\\DNN\\Para_Ferro\\models\\2024-08-18\\dnn_para_ferro_n60_DO02.h5\n",
      "Model: \"sequential_13\"\n",
      "_________________________________________________________________\n",
      " Layer (type)                Output Shape              Param #   \n",
      "=================================================================\n",
      " dense_26 (Dense)            (None, 80)                128080    \n",
      "                                                                 \n",
      " dropout_13 (Dropout)        (None, 80)                0         \n",
      "                                                                 \n",
      " dense_27 (Dense)            (None, 2)                 162       \n",
      "                                                                 \n",
      "=================================================================\n",
      "Total params: 128242 (500.95 KB)\n",
      "Trainable params: 128242 (500.95 KB)\n",
      "Non-trainable params: 0 (0.00 Byte)\n",
      "_________________________________________________________________\n"
     ]
    },
    {
     "name": "stderr",
     "output_type": "stream",
     "text": [
      "Generating DNN models:  42%|████▏     | 14/33 [03:46<01:21,  4.31s/neuron]"
     ]
    },
    {
     "name": "stdout",
     "output_type": "stream",
     "text": [
      "\n",
      "Accuracy is high enough, so cancelling training!\n",
      "Model saved as d:\\Facultad\\Doctorado\\Proyectos\\paper\\DNN\\Para_Ferro\\models\\2024-08-18\\dnn_para_ferro_n80_DO02.h5\n",
      "Model: \"sequential_14\"\n",
      "_________________________________________________________________\n",
      " Layer (type)                Output Shape              Param #   \n",
      "=================================================================\n",
      " dense_28 (Dense)            (None, 100)               160100    \n",
      "                                                                 \n",
      " dropout_14 (Dropout)        (None, 100)               0         \n",
      "                                                                 \n",
      " dense_29 (Dense)            (None, 2)                 202       \n",
      "                                                                 \n",
      "=================================================================\n",
      "Total params: 160302 (626.18 KB)\n",
      "Trainable params: 160302 (626.18 KB)\n",
      "Non-trainable params: 0 (0.00 Byte)\n",
      "_________________________________________________________________\n"
     ]
    },
    {
     "name": "stderr",
     "output_type": "stream",
     "text": [
      "Generating DNN models:  45%|████▌     | 15/33 [03:49<01:12,  4.02s/neuron]"
     ]
    },
    {
     "name": "stdout",
     "output_type": "stream",
     "text": [
      "\n",
      "Accuracy is high enough, so cancelling training!\n",
      "Model saved as d:\\Facultad\\Doctorado\\Proyectos\\paper\\DNN\\Para_Ferro\\models\\2024-08-18\\dnn_para_ferro_n100_DO02.h5\n",
      "Model: \"sequential_15\"\n",
      "_________________________________________________________________\n",
      " Layer (type)                Output Shape              Param #   \n",
      "=================================================================\n",
      " dense_30 (Dense)            (None, 150)               240150    \n",
      "                                                                 \n",
      " dropout_15 (Dropout)        (None, 150)               0         \n",
      "                                                                 \n",
      " dense_31 (Dense)            (None, 2)                 302       \n",
      "                                                                 \n",
      "=================================================================\n",
      "Total params: 240452 (939.27 KB)\n",
      "Trainable params: 240452 (939.27 KB)\n",
      "Non-trainable params: 0 (0.00 Byte)\n",
      "_________________________________________________________________\n"
     ]
    },
    {
     "name": "stderr",
     "output_type": "stream",
     "text": [
      "Generating DNN models:  48%|████▊     | 16/33 [03:56<01:21,  4.77s/neuron]"
     ]
    },
    {
     "name": "stdout",
     "output_type": "stream",
     "text": [
      "\n",
      "Accuracy is high enough, so cancelling training!\n",
      "Model saved as d:\\Facultad\\Doctorado\\Proyectos\\paper\\DNN\\Para_Ferro\\models\\2024-08-18\\dnn_para_ferro_n150_DO02.h5\n",
      "Model: \"sequential_16\"\n",
      "_________________________________________________________________\n",
      " Layer (type)                Output Shape              Param #   \n",
      "=================================================================\n",
      " dense_32 (Dense)            (None, 200)               320200    \n",
      "                                                                 \n",
      " dropout_16 (Dropout)        (None, 200)               0         \n",
      "                                                                 \n",
      " dense_33 (Dense)            (None, 2)                 402       \n",
      "                                                                 \n",
      "=================================================================\n",
      "Total params: 320602 (1.22 MB)\n",
      "Trainable params: 320602 (1.22 MB)\n",
      "Non-trainable params: 0 (0.00 Byte)\n",
      "_________________________________________________________________\n"
     ]
    },
    {
     "name": "stderr",
     "output_type": "stream",
     "text": [
      "Generating DNN models:  52%|█████▏    | 17/33 [04:06<01:44,  6.51s/neuron]"
     ]
    },
    {
     "name": "stdout",
     "output_type": "stream",
     "text": [
      "\n",
      "Accuracy is high enough, so cancelling training!\n",
      "Model saved as d:\\Facultad\\Doctorado\\Proyectos\\paper\\DNN\\Para_Ferro\\models\\2024-08-18\\dnn_para_ferro_n200_DO02.h5\n",
      "Model: \"sequential_17\"\n",
      "_________________________________________________________________\n",
      " Layer (type)                Output Shape              Param #   \n",
      "=================================================================\n",
      " dense_34 (Dense)            (None, 250)               400250    \n",
      "                                                                 \n",
      " dropout_17 (Dropout)        (None, 250)               0         \n",
      "                                                                 \n",
      " dense_35 (Dense)            (None, 2)                 502       \n",
      "                                                                 \n",
      "=================================================================\n",
      "Total params: 400752 (1.53 MB)\n",
      "Trainable params: 400752 (1.53 MB)\n",
      "Non-trainable params: 0 (0.00 Byte)\n",
      "_________________________________________________________________\n"
     ]
    },
    {
     "name": "stderr",
     "output_type": "stream",
     "text": [
      "Generating DNN models:  55%|█████▍    | 18/33 [04:14<01:41,  6.79s/neuron]"
     ]
    },
    {
     "name": "stdout",
     "output_type": "stream",
     "text": [
      "\n",
      "Accuracy is high enough, so cancelling training!\n",
      "Model saved as d:\\Facultad\\Doctorado\\Proyectos\\paper\\DNN\\Para_Ferro\\models\\2024-08-18\\dnn_para_ferro_n250_DO02.h5\n",
      "Model: \"sequential_18\"\n",
      "_________________________________________________________________\n",
      " Layer (type)                Output Shape              Param #   \n",
      "=================================================================\n",
      " dense_36 (Dense)            (None, 300)               480300    \n",
      "                                                                 \n",
      " dropout_18 (Dropout)        (None, 300)               0         \n",
      "                                                                 \n",
      " dense_37 (Dense)            (None, 2)                 602       \n",
      "                                                                 \n",
      "=================================================================\n",
      "Total params: 480902 (1.83 MB)\n",
      "Trainable params: 480902 (1.83 MB)\n",
      "Non-trainable params: 0 (0.00 Byte)\n",
      "_________________________________________________________________\n"
     ]
    },
    {
     "name": "stderr",
     "output_type": "stream",
     "text": [
      "Generating DNN models:  58%|█████▊    | 19/33 [04:35<02:36, 11.16s/neuron]"
     ]
    },
    {
     "name": "stdout",
     "output_type": "stream",
     "text": [
      "\n",
      "Accuracy is high enough, so cancelling training!\n",
      "Model saved as d:\\Facultad\\Doctorado\\Proyectos\\paper\\DNN\\Para_Ferro\\models\\2024-08-18\\dnn_para_ferro_n300_DO02.h5\n",
      "Model: \"sequential_19\"\n",
      "_________________________________________________________________\n",
      " Layer (type)                Output Shape              Param #   \n",
      "=================================================================\n",
      " dense_38 (Dense)            (None, 350)               560350    \n",
      "                                                                 \n",
      " dropout_19 (Dropout)        (None, 350)               0         \n",
      "                                                                 \n",
      " dense_39 (Dense)            (None, 2)                 702       \n",
      "                                                                 \n",
      "=================================================================\n",
      "Total params: 561052 (2.14 MB)\n",
      "Trainable params: 561052 (2.14 MB)\n",
      "Non-trainable params: 0 (0.00 Byte)\n",
      "_________________________________________________________________\n"
     ]
    },
    {
     "name": "stderr",
     "output_type": "stream",
     "text": [
      "Generating DNN models:  61%|██████    | 20/33 [04:58<03:12, 14.84s/neuron]"
     ]
    },
    {
     "name": "stdout",
     "output_type": "stream",
     "text": [
      "\n",
      "Accuracy is high enough, so cancelling training!\n",
      "Model saved as d:\\Facultad\\Doctorado\\Proyectos\\paper\\DNN\\Para_Ferro\\models\\2024-08-18\\dnn_para_ferro_n350_DO02.h5\n",
      "Model: \"sequential_20\"\n",
      "_________________________________________________________________\n",
      " Layer (type)                Output Shape              Param #   \n",
      "=================================================================\n",
      " dense_40 (Dense)            (None, 400)               640400    \n",
      "                                                                 \n",
      " dropout_20 (Dropout)        (None, 400)               0         \n",
      "                                                                 \n",
      " dense_41 (Dense)            (None, 2)                 802       \n",
      "                                                                 \n",
      "=================================================================\n",
      "Total params: 641202 (2.45 MB)\n",
      "Trainable params: 641202 (2.45 MB)\n",
      "Non-trainable params: 0 (0.00 Byte)\n",
      "_________________________________________________________________\n"
     ]
    },
    {
     "name": "stderr",
     "output_type": "stream",
     "text": [
      "Generating DNN models:  64%|██████▎   | 21/33 [05:26<03:45, 18.78s/neuron]"
     ]
    },
    {
     "name": "stdout",
     "output_type": "stream",
     "text": [
      "\n",
      "Accuracy is high enough, so cancelling training!\n",
      "Model saved as d:\\Facultad\\Doctorado\\Proyectos\\paper\\DNN\\Para_Ferro\\models\\2024-08-18\\dnn_para_ferro_n400_DO02.h5\n",
      "Model: \"sequential_21\"\n",
      "_________________________________________________________________\n",
      " Layer (type)                Output Shape              Param #   \n",
      "=================================================================\n",
      " dense_42 (Dense)            (None, 450)               720450    \n",
      "                                                                 \n",
      " dropout_21 (Dropout)        (None, 450)               0         \n",
      "                                                                 \n",
      " dense_43 (Dense)            (None, 2)                 902       \n",
      "                                                                 \n",
      "=================================================================\n",
      "Total params: 721352 (2.75 MB)\n",
      "Trainable params: 721352 (2.75 MB)\n",
      "Non-trainable params: 0 (0.00 Byte)\n",
      "_________________________________________________________________\n"
     ]
    },
    {
     "name": "stderr",
     "output_type": "stream",
     "text": [
      "Generating DNN models:  67%|██████▋   | 22/33 [05:37<02:58, 16.22s/neuron]"
     ]
    },
    {
     "name": "stdout",
     "output_type": "stream",
     "text": [
      "\n",
      "Accuracy is high enough, so cancelling training!\n",
      "Model saved as d:\\Facultad\\Doctorado\\Proyectos\\paper\\DNN\\Para_Ferro\\models\\2024-08-18\\dnn_para_ferro_n450_DO02.h5\n",
      "Model: \"sequential_22\"\n",
      "_________________________________________________________________\n",
      " Layer (type)                Output Shape              Param #   \n",
      "=================================================================\n",
      " dense_44 (Dense)            (None, 500)               800500    \n",
      "                                                                 \n",
      " dropout_22 (Dropout)        (None, 500)               0         \n",
      "                                                                 \n",
      " dense_45 (Dense)            (None, 2)                 1002      \n",
      "                                                                 \n",
      "=================================================================\n",
      "Total params: 801502 (3.06 MB)\n",
      "Trainable params: 801502 (3.06 MB)\n",
      "Non-trainable params: 0 (0.00 Byte)\n",
      "_________________________________________________________________\n"
     ]
    },
    {
     "name": "stderr",
     "output_type": "stream",
     "text": [
      "Generating DNN models:  70%|██████▉   | 23/33 [05:59<02:59, 17.92s/neuron]"
     ]
    },
    {
     "name": "stdout",
     "output_type": "stream",
     "text": [
      "\n",
      "Accuracy is high enough, so cancelling training!\n",
      "Model saved as d:\\Facultad\\Doctorado\\Proyectos\\paper\\DNN\\Para_Ferro\\models\\2024-08-18\\dnn_para_ferro_n500_DO02.h5\n",
      "Model: \"sequential_23\"\n",
      "_________________________________________________________________\n",
      " Layer (type)                Output Shape              Param #   \n",
      "=================================================================\n",
      " dense_46 (Dense)            (None, 550)               880550    \n",
      "                                                                 \n",
      " dropout_23 (Dropout)        (None, 550)               0         \n",
      "                                                                 \n",
      " dense_47 (Dense)            (None, 2)                 1102      \n",
      "                                                                 \n",
      "=================================================================\n",
      "Total params: 881652 (3.36 MB)\n",
      "Trainable params: 881652 (3.36 MB)\n",
      "Non-trainable params: 0 (0.00 Byte)\n",
      "_________________________________________________________________\n"
     ]
    },
    {
     "name": "stderr",
     "output_type": "stream",
     "text": [
      "Generating DNN models:  73%|███████▎  | 24/33 [06:13<02:31, 16.82s/neuron]"
     ]
    },
    {
     "name": "stdout",
     "output_type": "stream",
     "text": [
      "\n",
      "Accuracy is high enough, so cancelling training!\n",
      "Model saved as d:\\Facultad\\Doctorado\\Proyectos\\paper\\DNN\\Para_Ferro\\models\\2024-08-18\\dnn_para_ferro_n550_DO02.h5\n",
      "Model: \"sequential_24\"\n",
      "_________________________________________________________________\n",
      " Layer (type)                Output Shape              Param #   \n",
      "=================================================================\n",
      " dense_48 (Dense)            (None, 600)               960600    \n",
      "                                                                 \n",
      " dropout_24 (Dropout)        (None, 600)               0         \n",
      "                                                                 \n",
      " dense_49 (Dense)            (None, 2)                 1202      \n",
      "                                                                 \n",
      "=================================================================\n",
      "Total params: 961802 (3.67 MB)\n",
      "Trainable params: 961802 (3.67 MB)\n",
      "Non-trainable params: 0 (0.00 Byte)\n",
      "_________________________________________________________________\n"
     ]
    },
    {
     "name": "stderr",
     "output_type": "stream",
     "text": [
      "Generating DNN models:  76%|███████▌  | 25/33 [06:26<02:05, 15.69s/neuron]"
     ]
    },
    {
     "name": "stdout",
     "output_type": "stream",
     "text": [
      "\n",
      "Accuracy is high enough, so cancelling training!\n",
      "Model saved as d:\\Facultad\\Doctorado\\Proyectos\\paper\\DNN\\Para_Ferro\\models\\2024-08-18\\dnn_para_ferro_n600_DO02.h5\n",
      "Model: \"sequential_25\"\n",
      "_________________________________________________________________\n",
      " Layer (type)                Output Shape              Param #   \n",
      "=================================================================\n",
      " dense_50 (Dense)            (None, 650)               1040650   \n",
      "                                                                 \n",
      " dropout_25 (Dropout)        (None, 650)               0         \n",
      "                                                                 \n",
      " dense_51 (Dense)            (None, 2)                 1302      \n",
      "                                                                 \n",
      "=================================================================\n",
      "Total params: 1041952 (3.97 MB)\n",
      "Trainable params: 1041952 (3.97 MB)\n",
      "Non-trainable params: 0 (0.00 Byte)\n",
      "_________________________________________________________________\n"
     ]
    },
    {
     "name": "stderr",
     "output_type": "stream",
     "text": [
      "Generating DNN models:  79%|███████▉  | 26/33 [06:40<01:46, 15.22s/neuron]"
     ]
    },
    {
     "name": "stdout",
     "output_type": "stream",
     "text": [
      "\n",
      "Accuracy is high enough, so cancelling training!\n",
      "Model saved as d:\\Facultad\\Doctorado\\Proyectos\\paper\\DNN\\Para_Ferro\\models\\2024-08-18\\dnn_para_ferro_n650_DO02.h5\n",
      "Model: \"sequential_26\"\n",
      "_________________________________________________________________\n",
      " Layer (type)                Output Shape              Param #   \n",
      "=================================================================\n",
      " dense_52 (Dense)            (None, 700)               1120700   \n",
      "                                                                 \n",
      " dropout_26 (Dropout)        (None, 700)               0         \n",
      "                                                                 \n",
      " dense_53 (Dense)            (None, 2)                 1402      \n",
      "                                                                 \n",
      "=================================================================\n",
      "Total params: 1122102 (4.28 MB)\n",
      "Trainable params: 1122102 (4.28 MB)\n",
      "Non-trainable params: 0 (0.00 Byte)\n",
      "_________________________________________________________________\n"
     ]
    },
    {
     "name": "stderr",
     "output_type": "stream",
     "text": [
      "Generating DNN models:  82%|████████▏ | 27/33 [06:55<01:30, 15.12s/neuron]"
     ]
    },
    {
     "name": "stdout",
     "output_type": "stream",
     "text": [
      "\n",
      "Accuracy is high enough, so cancelling training!\n",
      "Model saved as d:\\Facultad\\Doctorado\\Proyectos\\paper\\DNN\\Para_Ferro\\models\\2024-08-18\\dnn_para_ferro_n700_DO02.h5\n",
      "Model: \"sequential_27\"\n",
      "_________________________________________________________________\n",
      " Layer (type)                Output Shape              Param #   \n",
      "=================================================================\n",
      " dense_54 (Dense)            (None, 750)               1200750   \n",
      "                                                                 \n",
      " dropout_27 (Dropout)        (None, 750)               0         \n",
      "                                                                 \n",
      " dense_55 (Dense)            (None, 2)                 1502      \n",
      "                                                                 \n",
      "=================================================================\n",
      "Total params: 1202252 (4.59 MB)\n",
      "Trainable params: 1202252 (4.59 MB)\n",
      "Non-trainable params: 0 (0.00 Byte)\n",
      "_________________________________________________________________\n"
     ]
    },
    {
     "name": "stderr",
     "output_type": "stream",
     "text": [
      "Generating DNN models:  85%|████████▍ | 28/33 [07:11<01:16, 15.33s/neuron]"
     ]
    },
    {
     "name": "stdout",
     "output_type": "stream",
     "text": [
      "\n",
      "Accuracy is high enough, so cancelling training!\n",
      "Model saved as d:\\Facultad\\Doctorado\\Proyectos\\paper\\DNN\\Para_Ferro\\models\\2024-08-18\\dnn_para_ferro_n750_DO02.h5\n",
      "Model: \"sequential_28\"\n",
      "_________________________________________________________________\n",
      " Layer (type)                Output Shape              Param #   \n",
      "=================================================================\n",
      " dense_56 (Dense)            (None, 800)               1280800   \n",
      "                                                                 \n",
      " dropout_28 (Dropout)        (None, 800)               0         \n",
      "                                                                 \n",
      " dense_57 (Dense)            (None, 2)                 1602      \n",
      "                                                                 \n",
      "=================================================================\n",
      "Total params: 1282402 (4.89 MB)\n",
      "Trainable params: 1282402 (4.89 MB)\n",
      "Non-trainable params: 0 (0.00 Byte)\n",
      "_________________________________________________________________\n"
     ]
    },
    {
     "name": "stderr",
     "output_type": "stream",
     "text": [
      "Generating DNN models:  88%|████████▊ | 29/33 [07:27<01:02, 15.75s/neuron]"
     ]
    },
    {
     "name": "stdout",
     "output_type": "stream",
     "text": [
      "\n",
      "Accuracy is high enough, so cancelling training!\n",
      "Model saved as d:\\Facultad\\Doctorado\\Proyectos\\paper\\DNN\\Para_Ferro\\models\\2024-08-18\\dnn_para_ferro_n800_DO02.h5\n",
      "Model: \"sequential_29\"\n",
      "_________________________________________________________________\n",
      " Layer (type)                Output Shape              Param #   \n",
      "=================================================================\n",
      " dense_58 (Dense)            (None, 850)               1360850   \n",
      "                                                                 \n",
      " dropout_29 (Dropout)        (None, 850)               0         \n",
      "                                                                 \n",
      " dense_59 (Dense)            (None, 2)                 1702      \n",
      "                                                                 \n",
      "=================================================================\n",
      "Total params: 1362552 (5.20 MB)\n",
      "Trainable params: 1362552 (5.20 MB)\n",
      "Non-trainable params: 0 (0.00 Byte)\n",
      "_________________________________________________________________\n"
     ]
    },
    {
     "name": "stderr",
     "output_type": "stream",
     "text": [
      "Generating DNN models:  91%|█████████ | 30/33 [07:47<00:50, 16.86s/neuron]"
     ]
    },
    {
     "name": "stdout",
     "output_type": "stream",
     "text": [
      "\n",
      "Accuracy is high enough, so cancelling training!\n",
      "Model saved as d:\\Facultad\\Doctorado\\Proyectos\\paper\\DNN\\Para_Ferro\\models\\2024-08-18\\dnn_para_ferro_n850_DO02.h5\n",
      "Model: \"sequential_30\"\n",
      "_________________________________________________________________\n",
      " Layer (type)                Output Shape              Param #   \n",
      "=================================================================\n",
      " dense_60 (Dense)            (None, 900)               1440900   \n",
      "                                                                 \n",
      " dropout_30 (Dropout)        (None, 900)               0         \n",
      "                                                                 \n",
      " dense_61 (Dense)            (None, 2)                 1802      \n",
      "                                                                 \n",
      "=================================================================\n",
      "Total params: 1442702 (5.50 MB)\n",
      "Trainable params: 1442702 (5.50 MB)\n",
      "Non-trainable params: 0 (0.00 Byte)\n",
      "_________________________________________________________________\n"
     ]
    },
    {
     "name": "stderr",
     "output_type": "stream",
     "text": [
      "Generating DNN models:  94%|█████████▍| 31/33 [08:07<00:35, 17.91s/neuron]"
     ]
    },
    {
     "name": "stdout",
     "output_type": "stream",
     "text": [
      "\n",
      "Accuracy is high enough, so cancelling training!\n",
      "Model saved as d:\\Facultad\\Doctorado\\Proyectos\\paper\\DNN\\Para_Ferro\\models\\2024-08-18\\dnn_para_ferro_n900_DO02.h5\n",
      "Model: \"sequential_31\"\n",
      "_________________________________________________________________\n",
      " Layer (type)                Output Shape              Param #   \n",
      "=================================================================\n",
      " dense_62 (Dense)            (None, 950)               1520950   \n",
      "                                                                 \n",
      " dropout_31 (Dropout)        (None, 950)               0         \n",
      "                                                                 \n",
      " dense_63 (Dense)            (None, 2)                 1902      \n",
      "                                                                 \n",
      "=================================================================\n",
      "Total params: 1522852 (5.81 MB)\n",
      "Trainable params: 1522852 (5.81 MB)\n",
      "Non-trainable params: 0 (0.00 Byte)\n",
      "_________________________________________________________________\n",
      "\n",
      "Accuracy is high enough, so cancelling training!\n"
     ]
    },
    {
     "name": "stderr",
     "output_type": "stream",
     "text": [
      "Generating DNN models:  97%|█████████▋| 32/33 [08:48<00:24, 24.83s/neuron]"
     ]
    },
    {
     "name": "stdout",
     "output_type": "stream",
     "text": [
      "Model saved as d:\\Facultad\\Doctorado\\Proyectos\\paper\\DNN\\Para_Ferro\\models\\2024-08-18\\dnn_para_ferro_n950_DO02.h5\n",
      "Model: \"sequential_32\"\n",
      "_________________________________________________________________\n",
      " Layer (type)                Output Shape              Param #   \n",
      "=================================================================\n",
      " dense_64 (Dense)            (None, 1000)              1601000   \n",
      "                                                                 \n",
      " dropout_32 (Dropout)        (None, 1000)              0         \n",
      "                                                                 \n",
      " dense_65 (Dense)            (None, 2)                 2002      \n",
      "                                                                 \n",
      "=================================================================\n",
      "Total params: 1603002 (6.11 MB)\n",
      "Trainable params: 1603002 (6.11 MB)\n",
      "Non-trainable params: 0 (0.00 Byte)\n",
      "_________________________________________________________________\n",
      "\n",
      "Accuracy is high enough, so cancelling training!\n"
     ]
    },
    {
     "name": "stderr",
     "output_type": "stream",
     "text": [
      "Generating DNN models: 100%|██████████| 33/33 [09:31<00:00, 17.31s/neuron]"
     ]
    },
    {
     "name": "stdout",
     "output_type": "stream",
     "text": [
      "Model saved as d:\\Facultad\\Doctorado\\Proyectos\\paper\\DNN\\Para_Ferro\\models\\2024-08-18\\dnn_para_ferro_n1000_DO02.h5\n"
     ]
    },
    {
     "name": "stderr",
     "output_type": "stream",
     "text": [
      "\n"
     ]
    }
   ],
   "source": [
    "for neuron in tqdm(neurons, desc=f\"Generating DNN models\", unit=\"neuron\"):\n",
    "    np.random.seed(seed)\n",
    "    if neuron==1 or neuron==2:\n",
    "        kernel_regularizer=tf.keras.regularizers.l2(0.001)\n",
    "    else:   \n",
    "        kernel_regularizer=tf.keras.regularizers.l2(0.01)\n",
    "\n",
    "    dnn = auxLib.DenseNeuralNetworkGen() # Initializing. It generates the model\n",
    "\n",
    "    dnn.build_model((L*L,), num_classes=2, layers=[\n",
    "    {'type': 'dense', 'units': neuron, 'activation': 'relu', 'kernel_regularizer': kernel_regularizer},\n",
    "    {'type': 'dropout', 'rate': 0.2},\n",
    "    {'type': 'dense', 'units': 2, 'activation': 'softmax'} #2 is the number of classes: Paramagnetic and ferromagnetic\n",
    "    ])\n",
    "\n",
    "    dnn.compile(optimizer='adam', loss='sparse_categorical_crossentropy', metrics=['accuracy'])\n",
    "    dnn.summary()\n",
    "\n",
    "    dnn.fit(train_images, train_labels, \n",
    "            epochs=50, batch_size=20,\n",
    "            validation_data=(test_images, test_labels), \n",
    "            callbacks=[callbacks],\n",
    "            verbose=False)\n",
    "    \n",
    "    dnn.save_weights(f'dnn_para_ferro_n{neuron}_DO02', directory=modelsfolder) # name of the model (exclude the 'weights' and the extension)\n",
    "    dnn.save_model(f'dnn_para_ferro_n{neuron}_DO02', directory=modelsfolder)"
   ]
  },
  {
   "cell_type": "markdown",
   "metadata": {},
   "source": [
    "# Predictions"
   ]
  },
  {
   "cell_type": "code",
   "execution_count": 6,
   "metadata": {},
   "outputs": [
    {
     "name": "stdout",
     "output_type": "stream",
     "text": [
      "Loading simulated images...\n"
     ]
    },
    {
     "name": "stderr",
     "output_type": "stream",
     "text": [
      "Loading arrays:   0%|          | 0/156 [00:00<?, ?array/s]"
     ]
    },
    {
     "name": "stderr",
     "output_type": "stream",
     "text": [
      "Loading arrays: 100%|██████████| 156/156 [00:04<00:00, 37.48array/s]"
     ]
    },
    {
     "name": "stdout",
     "output_type": "stream",
     "text": [
      "Files loaded!\n",
      "Data of density p = 1. succesfully loaded.\n"
     ]
    },
    {
     "name": "stderr",
     "output_type": "stream",
     "text": [
      "\n"
     ]
    }
   ],
   "source": [
    "# Initializing loader and saver\n",
    "\n",
    "loader_init = auxLib.loader_and_saver(os.getcwd())\n",
    "\n",
    "# Loading simulated images\n",
    "\n",
    "sim_images, temperature = loader_init.simulatedImages(-1)"
   ]
  },
  {
   "cell_type": "code",
   "execution_count": null,
   "metadata": {},
   "outputs": [],
   "source": [
    "training = ['para', 'ferro']\n",
    "\n",
    "for neuron in neurons:\n",
    "    index = neurons.index(neuron)\n",
    "\n",
    "    model_path = os.path.join(modelsfolder, f'dnn_para_ferro_n{neuron}_DO02.h5')\n",
    "\n",
    "    dnn = keras.models.load_model(model_path)\n",
    "\n",
    "    prediction = auxLib.predictor(L, dnn, sim_images, neuron,\n",
    "\t\t\t\t\t\t\t\ttraining=['para', 'ferro'],\n",
    "                                directory=resultsfolder, \n",
    "                                reshape = True, \n",
    "                                verbose=False, \n",
    "                                save_prediction=True)\n",
    "\n"
   ]
  },
  {
   "cell_type": "markdown",
   "metadata": {},
   "source": [
    "# Calculating critical temperatures"
   ]
  },
  {
   "cell_type": "code",
   "execution_count": null,
   "metadata": {},
   "outputs": [],
   "source": [
    "critical_temperatures = []\n",
    "\n",
    "for neuron in neurons:\n",
    "    prediction = pd.read_csv(resultsfolder+f'/predictions_{neuron}.csv', header=0).to_numpy(float)\n",
    "    temperature, para, ferro = prediction.T\n",
    "\n",
    "    print(f'Prediction for {neuron} neurons in hidden layer')\n",
    "\n",
    "    plt.figure(figsize=(10, 7))\n",
    "    plt.plot(temperature, para, '^-', label='Paramagnetic', markerfacecolor='none', markersize=7)\n",
    "    plt.plot(temperature, ferro, 'o-', label='Ferromagnetic', markerfacecolor='none', markersize=7)\n",
    "    \n",
    "    if neuron<8:\n",
    "        plt.xlim((0.5, 3))\n",
    "    else:\n",
    "        plt.xlim((1.5, 3))\n",
    "    plt.xlabel('Temperature')\n",
    "    plt.ylabel('Probability')\n",
    "    plt.legend()\n",
    "\n",
    "    if max(ferro)<0.5:\n",
    "        tc = 0\n",
    "    else:\n",
    "        index_half = np.where(ferro > 0.5)[0][-1]\n",
    "        if index_half == 250:\n",
    "            index_half = 249\n",
    "        # Interpolation:\n",
    "        tc = temperature[index_half] + (ferro[index_half]-0.5)*(temperature[index_half+1] - temperature[index_half]) / (ferro[index_half] - ferro[index_half+1])\n",
    "        plt.axvline(x=tc,  color = 'red', linestyle = '--', alpha = 0.5)\n",
    "\n",
    "    critical_temperatures.append(tc)\n",
    "    print(f'T_c = {tc}')\n",
    "    plt.savefig(os.path.join(resultsfolder, f'{neuron}neurons.pdf'))\n",
    "    plt.show()"
   ]
  },
  {
   "cell_type": "code",
   "execution_count": 8,
   "metadata": {},
   "outputs": [],
   "source": [
    "temp = pd.DataFrame((np.concatenate((np.array(neurons).reshape(len(neurons),1), \n",
    "                                    np.array(critical_temperatures).reshape(len(neurons),1)),axis=1)), \n",
    "                                    columns=['Neurons','Temperature'])\n",
    "temp.to_csv(os.path.join(resultsfolder, 'critical_temperatures.csv'), index=False)"
   ]
  },
  {
   "cell_type": "code",
   "execution_count": 17,
   "metadata": {},
   "outputs": [
    {
     "data": {
      "image/png": "[encoded data removed]",
      "text/plain": [
       "<Figure size 504x504 with 1 Axes>"
      ]
     },
     "metadata": {
      "needs_background": "light"
     },
     "output_type": "display_data"
    }
   ],
   "source": [
    "temp = pd.read_csv(os.path.join(resultsfolder, f'critical_temperatures.csv'))\n",
    "\n",
    "plt.figure(figsize=(7, 7))\n",
    "plt.scatter(temp['Neurons'][1:],temp['Temperature'][1:], marker='x', color='black', label='Critical temperature')\n",
    "plt.axhline(y=2.269, color = 'red', linestyle = '--', label = 'Theoretical critical temperature')\n",
    "plt.xlabel('Neurons')\n",
    "plt.ylabel('Temperature')\n",
    "\n",
    "#plt.text(800, 2.25, rf'Tc ={2.269}', color='black', \n",
    "#        verticalalignment='top', horizontalalignment='left', fontsize=20)\n",
    "\n",
    "plt.ylim((2, 3))\n",
    "plt.legend(loc='upper right')\n",
    "plt.savefig(os.path.join(os.getcwd(), resultsfolder, 'critical_temperatures.pdf'))\n",
    "plt.show()"
   ]
  },
  {
   "cell_type": "markdown",
   "metadata": {},
   "source": [
    "# Studying weights (9 nov)"
   ]
  },
  {
   "cell_type": "code",
   "execution_count": 5,
   "metadata": {},
   "outputs": [],
   "source": [
    "modelsfolder, resultsfolder = auxLib.folders(directory='2024-08-18', training=training)\n",
    "\n",
    "saving_folder = os.path.join(os.getcwd(), 'DNN', 'Para_Ferro', 'predictions', datetime.now().strftime('%Y-%m-%d'))\n",
    "\n",
    "os.makedirs(saving_folder, exist_ok=True)"
   ]
  },
  {
   "cell_type": "code",
   "execution_count": null,
   "metadata": {},
   "outputs": [
    {
     "data": {
      "text/plain": [
       "\"\\n\\ntraining = 'all'\\n\\nfor neuron in neurons:\\n    index = neurons.index(neuron)\\n\\n    model_path = os.path.join(modelsfolder, f'dnn_all_n{neuron}_DO02.h5')\\n\\n    dnn = keras.models.load_model(model_path)\\n\\n    prediction = auxLib.predictor(L, dnn, sim_images, neuron, \\n                                training=['para', 'ferro', 'neel', 'stripe'],\\n                                directory=resultsfolder, \\n                                reshape = True, \\n                                verbose=False, \\n                                save_prediction=True)\\n                                \\n\""
      ]
     },
     "metadata": {},
     "output_type": "display_data"
    }
   ],
   "source": [
    "'''\n",
    "\n",
    "training = 'all'\n",
    "\n",
    "for neuron in neurons:\n",
    "    index = neurons.index(neuron)\n",
    "\n",
    "    model_path = os.path.join(modelsfolder, f'dnn_all_n{neuron}_DO02.h5')\n",
    "\n",
    "    dnn = keras.models.load_model(model_path)\n",
    "\n",
    "    prediction = auxLib.predictor(L, dnn, sim_images, neuron, \n",
    "                                training=['para', 'ferro', 'neel', 'stripe'],\n",
    "                                directory=resultsfolder, \n",
    "                                reshape = True, \n",
    "                                verbose=False, \n",
    "                                save_prediction=True)\n",
    "                                \n",
    "'''"
   ]
  },
  {
   "cell_type": "code",
   "execution_count": 21,
   "metadata": {},
   "outputs": [],
   "source": [
    "hidden_neurons = 20\n",
    "\n",
    "model_path = os.path.join(modelsfolder, f'dnn_para_ferro_n{hidden_neurons}_DO02.h5')\n",
    "\n",
    "dnn = keras.models.load_model(model_path)"
   ]
  },
  {
   "cell_type": "code",
   "execution_count": 22,
   "metadata": {},
   "outputs": [
    {
     "data": {
      "text/html": [
       "<div>\n",
       "<style scoped>\n",
       "    .dataframe tbody tr th:only-of-type {\n",
       "        vertical-align: middle;\n",
       "    }\n",
       "\n",
       "    .dataframe tbody tr th {\n",
       "        vertical-align: top;\n",
       "    }\n",
       "\n",
       "    .dataframe thead th {\n",
       "        text-align: right;\n",
       "    }\n",
       "</style>\n",
       "<table border=\"1\" class=\"dataframe\">\n",
       "  <thead>\n",
       "    <tr style=\"text-align: right;\">\n",
       "      <th></th>\n",
       "      <th>0</th>\n",
       "      <th>1</th>\n",
       "      <th>2</th>\n",
       "      <th>3</th>\n",
       "      <th>4</th>\n",
       "      <th>5</th>\n",
       "      <th>6</th>\n",
       "      <th>7</th>\n",
       "      <th>8</th>\n",
       "      <th>9</th>\n",
       "      <th>10</th>\n",
       "      <th>11</th>\n",
       "      <th>12</th>\n",
       "      <th>13</th>\n",
       "      <th>14</th>\n",
       "      <th>15</th>\n",
       "      <th>16</th>\n",
       "      <th>17</th>\n",
       "      <th>18</th>\n",
       "      <th>19</th>\n",
       "    </tr>\n",
       "  </thead>\n",
       "  <tbody>\n",
       "    <tr>\n",
       "      <th>0</th>\n",
       "      <td>0.014152</td>\n",
       "      <td>0.000788</td>\n",
       "      <td>-0.001150</td>\n",
       "      <td>-0.003636</td>\n",
       "      <td>0.008955</td>\n",
       "      <td>-0.005291</td>\n",
       "      <td>-0.000836</td>\n",
       "      <td>-0.007346</td>\n",
       "      <td>-0.030878</td>\n",
       "      <td>0.014190</td>\n",
       "      <td>-0.003695</td>\n",
       "      <td>-0.018293</td>\n",
       "      <td>-0.005890</td>\n",
       "      <td>0.012023</td>\n",
       "      <td>0.005729</td>\n",
       "      <td>-0.012441</td>\n",
       "      <td>-0.024681</td>\n",
       "      <td>-0.019035</td>\n",
       "      <td>0.034089</td>\n",
       "      <td>-0.021846</td>\n",
       "    </tr>\n",
       "    <tr>\n",
       "      <th>1</th>\n",
       "      <td>-0.002743</td>\n",
       "      <td>0.012620</td>\n",
       "      <td>-0.010440</td>\n",
       "      <td>0.012892</td>\n",
       "      <td>-0.047499</td>\n",
       "      <td>0.003673</td>\n",
       "      <td>-0.003417</td>\n",
       "      <td>-0.002672</td>\n",
       "      <td>-0.016904</td>\n",
       "      <td>-0.008144</td>\n",
       "      <td>0.011750</td>\n",
       "      <td>0.025339</td>\n",
       "      <td>-0.000625</td>\n",
       "      <td>-0.041591</td>\n",
       "      <td>0.011303</td>\n",
       "      <td>-0.003204</td>\n",
       "      <td>-0.035026</td>\n",
       "      <td>-0.019054</td>\n",
       "      <td>0.000558</td>\n",
       "      <td>-0.004386</td>\n",
       "    </tr>\n",
       "    <tr>\n",
       "      <th>2</th>\n",
       "      <td>0.016810</td>\n",
       "      <td>-0.019734</td>\n",
       "      <td>-0.009409</td>\n",
       "      <td>0.003189</td>\n",
       "      <td>-0.022953</td>\n",
       "      <td>-0.012000</td>\n",
       "      <td>-0.009661</td>\n",
       "      <td>-0.010698</td>\n",
       "      <td>0.006001</td>\n",
       "      <td>0.037939</td>\n",
       "      <td>0.017056</td>\n",
       "      <td>-0.014004</td>\n",
       "      <td>-0.004036</td>\n",
       "      <td>0.006476</td>\n",
       "      <td>0.019397</td>\n",
       "      <td>0.009041</td>\n",
       "      <td>0.014495</td>\n",
       "      <td>0.016991</td>\n",
       "      <td>0.015116</td>\n",
       "      <td>-0.002123</td>\n",
       "    </tr>\n",
       "    <tr>\n",
       "      <th>3</th>\n",
       "      <td>0.012350</td>\n",
       "      <td>0.027952</td>\n",
       "      <td>-0.005998</td>\n",
       "      <td>-0.000983</td>\n",
       "      <td>0.024990</td>\n",
       "      <td>-0.015905</td>\n",
       "      <td>-0.001959</td>\n",
       "      <td>-0.009063</td>\n",
       "      <td>0.003686</td>\n",
       "      <td>-0.019917</td>\n",
       "      <td>-0.021617</td>\n",
       "      <td>0.006252</td>\n",
       "      <td>-0.012328</td>\n",
       "      <td>-0.009607</td>\n",
       "      <td>0.004071</td>\n",
       "      <td>-0.014011</td>\n",
       "      <td>-0.045078</td>\n",
       "      <td>0.012799</td>\n",
       "      <td>0.012867</td>\n",
       "      <td>0.007806</td>\n",
       "    </tr>\n",
       "    <tr>\n",
       "      <th>4</th>\n",
       "      <td>0.002049</td>\n",
       "      <td>0.024913</td>\n",
       "      <td>-0.012649</td>\n",
       "      <td>0.006437</td>\n",
       "      <td>-0.035350</td>\n",
       "      <td>0.013416</td>\n",
       "      <td>-0.002022</td>\n",
       "      <td>-0.016158</td>\n",
       "      <td>0.019311</td>\n",
       "      <td>0.062520</td>\n",
       "      <td>-0.015054</td>\n",
       "      <td>0.011442</td>\n",
       "      <td>-0.012396</td>\n",
       "      <td>-0.013414</td>\n",
       "      <td>-0.009752</td>\n",
       "      <td>0.024648</td>\n",
       "      <td>-0.041756</td>\n",
       "      <td>0.029949</td>\n",
       "      <td>0.018215</td>\n",
       "      <td>-0.007605</td>\n",
       "    </tr>\n",
       "    <tr>\n",
       "      <th>...</th>\n",
       "      <td>...</td>\n",
       "      <td>...</td>\n",
       "      <td>...</td>\n",
       "      <td>...</td>\n",
       "      <td>...</td>\n",
       "      <td>...</td>\n",
       "      <td>...</td>\n",
       "      <td>...</td>\n",
       "      <td>...</td>\n",
       "      <td>...</td>\n",
       "      <td>...</td>\n",
       "      <td>...</td>\n",
       "      <td>...</td>\n",
       "      <td>...</td>\n",
       "      <td>...</td>\n",
       "      <td>...</td>\n",
       "      <td>...</td>\n",
       "      <td>...</td>\n",
       "      <td>...</td>\n",
       "      <td>...</td>\n",
       "    </tr>\n",
       "    <tr>\n",
       "      <th>1595</th>\n",
       "      <td>0.018603</td>\n",
       "      <td>-0.008597</td>\n",
       "      <td>-0.011496</td>\n",
       "      <td>0.009783</td>\n",
       "      <td>-0.018213</td>\n",
       "      <td>0.035615</td>\n",
       "      <td>0.017430</td>\n",
       "      <td>-0.003689</td>\n",
       "      <td>0.017046</td>\n",
       "      <td>0.008063</td>\n",
       "      <td>-0.009475</td>\n",
       "      <td>0.000879</td>\n",
       "      <td>-0.008110</td>\n",
       "      <td>0.029972</td>\n",
       "      <td>0.030051</td>\n",
       "      <td>0.001864</td>\n",
       "      <td>-0.027810</td>\n",
       "      <td>0.031552</td>\n",
       "      <td>0.036771</td>\n",
       "      <td>-0.012456</td>\n",
       "    </tr>\n",
       "    <tr>\n",
       "      <th>1596</th>\n",
       "      <td>0.014711</td>\n",
       "      <td>-0.035031</td>\n",
       "      <td>-0.005697</td>\n",
       "      <td>0.008854</td>\n",
       "      <td>-0.034343</td>\n",
       "      <td>0.037469</td>\n",
       "      <td>0.014982</td>\n",
       "      <td>-0.011848</td>\n",
       "      <td>-0.039264</td>\n",
       "      <td>-0.052461</td>\n",
       "      <td>0.043106</td>\n",
       "      <td>0.028443</td>\n",
       "      <td>-0.006617</td>\n",
       "      <td>0.043608</td>\n",
       "      <td>0.043113</td>\n",
       "      <td>0.016618</td>\n",
       "      <td>-0.023441</td>\n",
       "      <td>0.034275</td>\n",
       "      <td>0.017178</td>\n",
       "      <td>-0.008997</td>\n",
       "    </tr>\n",
       "    <tr>\n",
       "      <th>1597</th>\n",
       "      <td>0.007496</td>\n",
       "      <td>0.009503</td>\n",
       "      <td>-0.007653</td>\n",
       "      <td>0.004873</td>\n",
       "      <td>-0.001279</td>\n",
       "      <td>-0.019916</td>\n",
       "      <td>0.001475</td>\n",
       "      <td>-0.007876</td>\n",
       "      <td>-0.020426</td>\n",
       "      <td>0.034194</td>\n",
       "      <td>-0.009416</td>\n",
       "      <td>0.024846</td>\n",
       "      <td>-0.005966</td>\n",
       "      <td>-0.001772</td>\n",
       "      <td>0.032228</td>\n",
       "      <td>0.009010</td>\n",
       "      <td>-0.043223</td>\n",
       "      <td>0.020648</td>\n",
       "      <td>0.011431</td>\n",
       "      <td>0.002273</td>\n",
       "    </tr>\n",
       "    <tr>\n",
       "      <th>1598</th>\n",
       "      <td>0.021169</td>\n",
       "      <td>-0.018627</td>\n",
       "      <td>-0.004737</td>\n",
       "      <td>-0.012979</td>\n",
       "      <td>0.007250</td>\n",
       "      <td>0.046855</td>\n",
       "      <td>-0.000941</td>\n",
       "      <td>-0.007218</td>\n",
       "      <td>-0.021962</td>\n",
       "      <td>0.005541</td>\n",
       "      <td>0.003699</td>\n",
       "      <td>-0.019757</td>\n",
       "      <td>-0.004478</td>\n",
       "      <td>-0.000249</td>\n",
       "      <td>0.048086</td>\n",
       "      <td>0.033458</td>\n",
       "      <td>0.015900</td>\n",
       "      <td>0.045353</td>\n",
       "      <td>-0.007120</td>\n",
       "      <td>0.015361</td>\n",
       "    </tr>\n",
       "    <tr>\n",
       "      <th>1599</th>\n",
       "      <td>0.018994</td>\n",
       "      <td>-0.004307</td>\n",
       "      <td>-0.012629</td>\n",
       "      <td>-0.018623</td>\n",
       "      <td>0.019265</td>\n",
       "      <td>-0.003785</td>\n",
       "      <td>-0.013074</td>\n",
       "      <td>0.001669</td>\n",
       "      <td>-0.059346</td>\n",
       "      <td>-0.011257</td>\n",
       "      <td>0.030334</td>\n",
       "      <td>0.006931</td>\n",
       "      <td>-0.006203</td>\n",
       "      <td>0.001978</td>\n",
       "      <td>0.033511</td>\n",
       "      <td>0.003458</td>\n",
       "      <td>-0.007486</td>\n",
       "      <td>-0.035466</td>\n",
       "      <td>-0.002115</td>\n",
       "      <td>-0.000467</td>\n",
       "    </tr>\n",
       "  </tbody>\n",
       "</table>\n",
       "<p>1600 rows × 20 columns</p>\n",
       "</div>"
      ],
      "text/plain": [
       "            0         1         2         3         4         5         6   \\\n",
       "0     0.014152  0.000788 -0.001150 -0.003636  0.008955 -0.005291 -0.000836   \n",
       "1    -0.002743  0.012620 -0.010440  0.012892 -0.047499  0.003673 -0.003417   \n",
       "2     0.016810 -0.019734 -0.009409  0.003189 -0.022953 -0.012000 -0.009661   \n",
       "3     0.012350  0.027952 -0.005998 -0.000983  0.024990 -0.015905 -0.001959   \n",
       "4     0.002049  0.024913 -0.012649  0.006437 -0.035350  0.013416 -0.002022   \n",
       "...        ...       ...       ...       ...       ...       ...       ...   \n",
       "1595  0.018603 -0.008597 -0.011496  0.009783 -0.018213  0.035615  0.017430   \n",
       "1596  0.014711 -0.035031 -0.005697  0.008854 -0.034343  0.037469  0.014982   \n",
       "1597  0.007496  0.009503 -0.007653  0.004873 -0.001279 -0.019916  0.001475   \n",
       "1598  0.021169 -0.018627 -0.004737 -0.012979  0.007250  0.046855 -0.000941   \n",
       "1599  0.018994 -0.004307 -0.012629 -0.018623  0.019265 -0.003785 -0.013074   \n",
       "\n",
       "            7         8         9         10        11        12        13  \\\n",
       "0    -0.007346 -0.030878  0.014190 -0.003695 -0.018293 -0.005890  0.012023   \n",
       "1    -0.002672 -0.016904 -0.008144  0.011750  0.025339 -0.000625 -0.041591   \n",
       "2    -0.010698  0.006001  0.037939  0.017056 -0.014004 -0.004036  0.006476   \n",
       "3    -0.009063  0.003686 -0.019917 -0.021617  0.006252 -0.012328 -0.009607   \n",
       "4    -0.016158  0.019311  0.062520 -0.015054  0.011442 -0.012396 -0.013414   \n",
       "...        ...       ...       ...       ...       ...       ...       ...   \n",
       "1595 -0.003689  0.017046  0.008063 -0.009475  0.000879 -0.008110  0.029972   \n",
       "1596 -0.011848 -0.039264 -0.052461  0.043106  0.028443 -0.006617  0.043608   \n",
       "1597 -0.007876 -0.020426  0.034194 -0.009416  0.024846 -0.005966 -0.001772   \n",
       "1598 -0.007218 -0.021962  0.005541  0.003699 -0.019757 -0.004478 -0.000249   \n",
       "1599  0.001669 -0.059346 -0.011257  0.030334  0.006931 -0.006203  0.001978   \n",
       "\n",
       "            14        15        16        17        18        19  \n",
       "0     0.005729 -0.012441 -0.024681 -0.019035  0.034089 -0.021846  \n",
       "1     0.011303 -0.003204 -0.035026 -0.019054  0.000558 -0.004386  \n",
       "2     0.019397  0.009041  0.014495  0.016991  0.015116 -0.002123  \n",
       "3     0.004071 -0.014011 -0.045078  0.012799  0.012867  0.007806  \n",
       "4    -0.009752  0.024648 -0.041756  0.029949  0.018215 -0.007605  \n",
       "...        ...       ...       ...       ...       ...       ...  \n",
       "1595  0.030051  0.001864 -0.027810  0.031552  0.036771 -0.012456  \n",
       "1596  0.043113  0.016618 -0.023441  0.034275  0.017178 -0.008997  \n",
       "1597  0.032228  0.009010 -0.043223  0.020648  0.011431  0.002273  \n",
       "1598  0.048086  0.033458  0.015900  0.045353 -0.007120  0.015361  \n",
       "1599  0.033511  0.003458 -0.007486 -0.035466 -0.002115 -0.000467  \n",
       "\n",
       "[1600 rows x 20 columns]"
      ]
     },
     "execution_count": 22,
     "metadata": {},
     "output_type": "execute_result"
    }
   ],
   "source": [
    "weights = dnn.get_weights()\n",
    "weights_df = pd.DataFrame(weights[0])\n",
    "weights_df"
   ]
  },
  {
   "cell_type": "code",
   "execution_count": 26,
   "metadata": {},
   "outputs": [
    {
     "data": {
      "image/png": "[encoded data removed]",
      "text/plain": [
       "<Figure size 864x504 with 2 Axes>"
      ]
     },
     "metadata": {
      "needs_background": "light"
     },
     "output_type": "display_data"
    }
   ],
   "source": [
    "import seaborn as sns\n",
    "from sklearn.preprocessing import MinMaxScaler\n",
    "\n",
    "min_val = weights_df.values.min()\n",
    "max_val = weights_df.values.max()\n",
    "\n",
    "scaler = MinMaxScaler((-1, 1))\n",
    "pesos_scaled = scaler.fit_transform(weights_df)\n",
    "\n",
    "plt.figure(figsize=(12, 7))\n",
    "ax = sns.heatmap(pesos_scaled, cmap='viridis',vmin = -1, vmax = 1)# or we can use (weights_df.values, cmap='viridis', vmin=min_val, vmax=max_val)\n",
    "plt.xlabel('Neurons of hidden layer')\n",
    "plt.ylabel('Neurons of input layer')\n",
    "plt.ylim((500,530))\n",
    "plt.xlim((0, 5))\n",
    "ax.set_yticks(np.linspace(500, 530, 11))\n",
    "ax.set_yticklabels(int(i) for i in np.linspace(500, 530, 11))\n",
    "plt.savefig(os.path.join(saving_folder, f'weights_{hidden_neurons}.pdf'))\n",
    "plt.show()\n",
    "\n"
   ]
  },
  {
   "cell_type": "code",
   "execution_count": 24,
   "metadata": {},
   "outputs": [
    {
     "data": {
      "text/plain": [
       "<matplotlib.collections.PathCollection at 0x20fc3b8ef10>"
      ]
     },
     "execution_count": 24,
     "metadata": {},
     "output_type": "execute_result"
    },
    {
     "data": {
      "image/png": "[encoded data removed]",
      "text/plain": [
       "<Figure size 432x288 with 1 Axes>"
      ]
     },
     "metadata": {
      "needs_background": "light"
     },
     "output_type": "display_data"
    }
   ],
   "source": [
    "prom_list = []\n",
    "for column in weights_df.columns:\n",
    "\tprom = weights_df[column].values.mean()\n",
    "\tprom_list.append(prom)\n",
    "\n",
    "#print(prom_list)\n",
    "plt.scatter(range(hidden_neurons),prom_list)"
   ]
  },
  {
   "cell_type": "code",
   "execution_count": null,
   "metadata": {},
   "outputs": [],
   "source": []
  }
 ],
 "metadata": {
  "kernelspec": {
   "display_name": "base",
   "language": "python",
   "name": "python3"
  },
  "language_info": {
   "codemirror_mode": {
    "name": "ipython",
    "version": 3
   },
   "file_extension": ".py",
   "mimetype": "text/x-python",
   "name": "python",
   "nbconvert_exporter": "python",
   "pygments_lexer": "ipython3",
   "version": "3.9.7"
  }
 },
 "nbformat": 4,
 "nbformat_minor": 2
}
